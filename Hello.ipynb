{
 "cells": [
  {
   "cell_type": "code",
   "execution_count": 1,
   "id": "624aa15b-32b2-4002-9f32-a7e1585b3420",
   "metadata": {},
   "outputs": [
    {
     "name": "stdout",
     "output_type": "stream",
     "text": [
      "Hello\n"
     ]
    }
   ],
   "source": [
    "print(\"Hello\")"
   ]
  },
  {
   "cell_type": "code",
   "execution_count": 3,
   "id": "7093bae7-a718-4423-b5c3-19bad8a41923",
   "metadata": {},
   "outputs": [
    {
     "name": "stdout",
     "output_type": "stream",
     "text": [
      "I am Vinisha\n"
     ]
    }
   ],
   "source": [
    "print(\"I am Vinisha\")"
   ]
  },
  {
   "cell_type": "code",
   "execution_count": null,
   "id": "fefb5a6e-7b4f-44d1-ac0e-053f15d7a0be",
   "metadata": {},
   "outputs": [],
   "source": []
  }
 ],
 "metadata": {
  "kernelspec": {
   "display_name": "Python 3 (ipykernel)",
   "language": "python",
   "name": "python3"
  },
  "language_info": {
   "codemirror_mode": {
    "name": "ipython",
    "version": 3
   },
   "file_extension": ".py",
   "mimetype": "text/x-python",
   "name": "python",
   "nbconvert_exporter": "python",
   "pygments_lexer": "ipython3",
   "version": "3.12.4"
  }
 },
 "nbformat": 4,
 "nbformat_minor": 5
}
